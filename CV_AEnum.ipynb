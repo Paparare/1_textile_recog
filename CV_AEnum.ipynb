{
  "nbformat": 4,
  "nbformat_minor": 0,
  "metadata": {
    "colab": {
      "provenance": [],
      "machine_shape": "hm",
      "gpuType": "A100",
      "authorship_tag": "ABX9TyO/Z9eQA5L2tYajg+kU8NIu",
      "include_colab_link": true
    },
    "kernelspec": {
      "name": "python3",
      "display_name": "Python 3"
    },
    "language_info": {
      "name": "python"
    },
    "accelerator": "GPU",
    "widgets": {
      "application/vnd.jupyter.widget-state+json": {
        "0a1650f3fcbc4f96b1b4ae3aa3eddbfb": {
          "model_module": "@jupyter-widgets/controls",
          "model_name": "HBoxModel",
          "model_module_version": "1.5.0",
          "state": {
            "_dom_classes": [],
            "_model_module": "@jupyter-widgets/controls",
            "_model_module_version": "1.5.0",
            "_model_name": "HBoxModel",
            "_view_count": null,
            "_view_module": "@jupyter-widgets/controls",
            "_view_module_version": "1.5.0",
            "_view_name": "HBoxView",
            "box_style": "",
            "children": [
              "IPY_MODEL_8c85f96dc71b48a7adce1c2dc0d4cc80",
              "IPY_MODEL_a8cdcb17ef7648568d828b244960a154",
              "IPY_MODEL_524f59be430a49e59bb7c4a5594ec926"
            ],
            "layout": "IPY_MODEL_26ae0162dade4360b2e82dffc593fe03"
          }
        },
        "8c85f96dc71b48a7adce1c2dc0d4cc80": {
          "model_module": "@jupyter-widgets/controls",
          "model_name": "HTMLModel",
          "model_module_version": "1.5.0",
          "state": {
            "_dom_classes": [],
            "_model_module": "@jupyter-widgets/controls",
            "_model_module_version": "1.5.0",
            "_model_name": "HTMLModel",
            "_view_count": null,
            "_view_module": "@jupyter-widgets/controls",
            "_view_module_version": "1.5.0",
            "_view_name": "HTMLView",
            "description": "",
            "description_tooltip": null,
            "layout": "IPY_MODEL_e3228c79ab744874b14eabdf52bda390",
            "placeholder": "​",
            "style": "IPY_MODEL_375399d959d34d33a0ac3bda7224aad0",
            "value": "Loading pipeline components...: 100%"
          }
        },
        "a8cdcb17ef7648568d828b244960a154": {
          "model_module": "@jupyter-widgets/controls",
          "model_name": "FloatProgressModel",
          "model_module_version": "1.5.0",
          "state": {
            "_dom_classes": [],
            "_model_module": "@jupyter-widgets/controls",
            "_model_module_version": "1.5.0",
            "_model_name": "FloatProgressModel",
            "_view_count": null,
            "_view_module": "@jupyter-widgets/controls",
            "_view_module_version": "1.5.0",
            "_view_name": "ProgressView",
            "bar_style": "success",
            "description": "",
            "description_tooltip": null,
            "layout": "IPY_MODEL_af58d3cb2005447cb85968b5699475ef",
            "max": 7,
            "min": 0,
            "orientation": "horizontal",
            "style": "IPY_MODEL_8e0e2e40c717460e88bd951b174df318",
            "value": 7
          }
        },
        "524f59be430a49e59bb7c4a5594ec926": {
          "model_module": "@jupyter-widgets/controls",
          "model_name": "HTMLModel",
          "model_module_version": "1.5.0",
          "state": {
            "_dom_classes": [],
            "_model_module": "@jupyter-widgets/controls",
            "_model_module_version": "1.5.0",
            "_model_name": "HTMLModel",
            "_view_count": null,
            "_view_module": "@jupyter-widgets/controls",
            "_view_module_version": "1.5.0",
            "_view_name": "HTMLView",
            "description": "",
            "description_tooltip": null,
            "layout": "IPY_MODEL_354d908d88894e16a7a993999a206bc0",
            "placeholder": "​",
            "style": "IPY_MODEL_63a29ee2f9b4480280a483b347af7ffa",
            "value": " 7/7 [00:01&lt;00:00,  5.81it/s]"
          }
        },
        "26ae0162dade4360b2e82dffc593fe03": {
          "model_module": "@jupyter-widgets/base",
          "model_name": "LayoutModel",
          "model_module_version": "1.2.0",
          "state": {
            "_model_module": "@jupyter-widgets/base",
            "_model_module_version": "1.2.0",
            "_model_name": "LayoutModel",
            "_view_count": null,
            "_view_module": "@jupyter-widgets/base",
            "_view_module_version": "1.2.0",
            "_view_name": "LayoutView",
            "align_content": null,
            "align_items": null,
            "align_self": null,
            "border": null,
            "bottom": null,
            "display": null,
            "flex": null,
            "flex_flow": null,
            "grid_area": null,
            "grid_auto_columns": null,
            "grid_auto_flow": null,
            "grid_auto_rows": null,
            "grid_column": null,
            "grid_gap": null,
            "grid_row": null,
            "grid_template_areas": null,
            "grid_template_columns": null,
            "grid_template_rows": null,
            "height": null,
            "justify_content": null,
            "justify_items": null,
            "left": null,
            "margin": null,
            "max_height": null,
            "max_width": null,
            "min_height": null,
            "min_width": null,
            "object_fit": null,
            "object_position": null,
            "order": null,
            "overflow": null,
            "overflow_x": null,
            "overflow_y": null,
            "padding": null,
            "right": null,
            "top": null,
            "visibility": null,
            "width": null
          }
        },
        "e3228c79ab744874b14eabdf52bda390": {
          "model_module": "@jupyter-widgets/base",
          "model_name": "LayoutModel",
          "model_module_version": "1.2.0",
          "state": {
            "_model_module": "@jupyter-widgets/base",
            "_model_module_version": "1.2.0",
            "_model_name": "LayoutModel",
            "_view_count": null,
            "_view_module": "@jupyter-widgets/base",
            "_view_module_version": "1.2.0",
            "_view_name": "LayoutView",
            "align_content": null,
            "align_items": null,
            "align_self": null,
            "border": null,
            "bottom": null,
            "display": null,
            "flex": null,
            "flex_flow": null,
            "grid_area": null,
            "grid_auto_columns": null,
            "grid_auto_flow": null,
            "grid_auto_rows": null,
            "grid_column": null,
            "grid_gap": null,
            "grid_row": null,
            "grid_template_areas": null,
            "grid_template_columns": null,
            "grid_template_rows": null,
            "height": null,
            "justify_content": null,
            "justify_items": null,
            "left": null,
            "margin": null,
            "max_height": null,
            "max_width": null,
            "min_height": null,
            "min_width": null,
            "object_fit": null,
            "object_position": null,
            "order": null,
            "overflow": null,
            "overflow_x": null,
            "overflow_y": null,
            "padding": null,
            "right": null,
            "top": null,
            "visibility": null,
            "width": null
          }
        },
        "375399d959d34d33a0ac3bda7224aad0": {
          "model_module": "@jupyter-widgets/controls",
          "model_name": "DescriptionStyleModel",
          "model_module_version": "1.5.0",
          "state": {
            "_model_module": "@jupyter-widgets/controls",
            "_model_module_version": "1.5.0",
            "_model_name": "DescriptionStyleModel",
            "_view_count": null,
            "_view_module": "@jupyter-widgets/base",
            "_view_module_version": "1.2.0",
            "_view_name": "StyleView",
            "description_width": ""
          }
        },
        "af58d3cb2005447cb85968b5699475ef": {
          "model_module": "@jupyter-widgets/base",
          "model_name": "LayoutModel",
          "model_module_version": "1.2.0",
          "state": {
            "_model_module": "@jupyter-widgets/base",
            "_model_module_version": "1.2.0",
            "_model_name": "LayoutModel",
            "_view_count": null,
            "_view_module": "@jupyter-widgets/base",
            "_view_module_version": "1.2.0",
            "_view_name": "LayoutView",
            "align_content": null,
            "align_items": null,
            "align_self": null,
            "border": null,
            "bottom": null,
            "display": null,
            "flex": null,
            "flex_flow": null,
            "grid_area": null,
            "grid_auto_columns": null,
            "grid_auto_flow": null,
            "grid_auto_rows": null,
            "grid_column": null,
            "grid_gap": null,
            "grid_row": null,
            "grid_template_areas": null,
            "grid_template_columns": null,
            "grid_template_rows": null,
            "height": null,
            "justify_content": null,
            "justify_items": null,
            "left": null,
            "margin": null,
            "max_height": null,
            "max_width": null,
            "min_height": null,
            "min_width": null,
            "object_fit": null,
            "object_position": null,
            "order": null,
            "overflow": null,
            "overflow_x": null,
            "overflow_y": null,
            "padding": null,
            "right": null,
            "top": null,
            "visibility": null,
            "width": null
          }
        },
        "8e0e2e40c717460e88bd951b174df318": {
          "model_module": "@jupyter-widgets/controls",
          "model_name": "ProgressStyleModel",
          "model_module_version": "1.5.0",
          "state": {
            "_model_module": "@jupyter-widgets/controls",
            "_model_module_version": "1.5.0",
            "_model_name": "ProgressStyleModel",
            "_view_count": null,
            "_view_module": "@jupyter-widgets/base",
            "_view_module_version": "1.2.0",
            "_view_name": "StyleView",
            "bar_color": null,
            "description_width": ""
          }
        },
        "354d908d88894e16a7a993999a206bc0": {
          "model_module": "@jupyter-widgets/base",
          "model_name": "LayoutModel",
          "model_module_version": "1.2.0",
          "state": {
            "_model_module": "@jupyter-widgets/base",
            "_model_module_version": "1.2.0",
            "_model_name": "LayoutModel",
            "_view_count": null,
            "_view_module": "@jupyter-widgets/base",
            "_view_module_version": "1.2.0",
            "_view_name": "LayoutView",
            "align_content": null,
            "align_items": null,
            "align_self": null,
            "border": null,
            "bottom": null,
            "display": null,
            "flex": null,
            "flex_flow": null,
            "grid_area": null,
            "grid_auto_columns": null,
            "grid_auto_flow": null,
            "grid_auto_rows": null,
            "grid_column": null,
            "grid_gap": null,
            "grid_row": null,
            "grid_template_areas": null,
            "grid_template_columns": null,
            "grid_template_rows": null,
            "height": null,
            "justify_content": null,
            "justify_items": null,
            "left": null,
            "margin": null,
            "max_height": null,
            "max_width": null,
            "min_height": null,
            "min_width": null,
            "object_fit": null,
            "object_position": null,
            "order": null,
            "overflow": null,
            "overflow_x": null,
            "overflow_y": null,
            "padding": null,
            "right": null,
            "top": null,
            "visibility": null,
            "width": null
          }
        },
        "63a29ee2f9b4480280a483b347af7ffa": {
          "model_module": "@jupyter-widgets/controls",
          "model_name": "DescriptionStyleModel",
          "model_module_version": "1.5.0",
          "state": {
            "_model_module": "@jupyter-widgets/controls",
            "_model_module_version": "1.5.0",
            "_model_name": "DescriptionStyleModel",
            "_view_count": null,
            "_view_module": "@jupyter-widgets/base",
            "_view_module_version": "1.2.0",
            "_view_name": "StyleView",
            "description_width": ""
          }
        }
      }
    }
  },
  "cells": [
    {
      "cell_type": "markdown",
      "metadata": {
        "id": "view-in-github",
        "colab_type": "text"
      },
      "source": [
        "<a href=\"https://colab.research.google.com/github/Paparare/1_textile_recog/blob/main/CV_AEnum.ipynb\" target=\"_parent\"><img src=\"https://colab.research.google.com/assets/colab-badge.svg\" alt=\"Open In Colab\"/></a>"
      ]
    },
    {
      "cell_type": "code",
      "source": [
        "!pip install torch torchvision transformers datasets diffusers transformers pillow"
      ],
      "metadata": {
        "colab": {
          "base_uri": "https://localhost:8080/"
        },
        "collapsed": true,
        "id": "ZYMGo3b9wq4W",
        "outputId": "34cf5119-fa58-4678-c791-62cb23438425"
      },
      "execution_count": null,
      "outputs": [
        {
          "output_type": "stream",
          "name": "stdout",
          "text": [
            "Requirement already satisfied: torch in /usr/local/lib/python3.10/dist-packages (2.3.1+cu121)\n",
            "Requirement already satisfied: torchvision in /usr/local/lib/python3.10/dist-packages (0.18.1+cu121)\n",
            "Requirement already satisfied: transformers in /usr/local/lib/python3.10/dist-packages (4.42.4)\n",
            "Collecting datasets\n",
            "  Downloading datasets-2.20.0-py3-none-any.whl.metadata (19 kB)\n",
            "Collecting diffusers\n",
            "  Downloading diffusers-0.30.0-py3-none-any.whl.metadata (18 kB)\n",
            "Requirement already satisfied: pillow in /usr/local/lib/python3.10/dist-packages (9.4.0)\n",
            "Requirement already satisfied: filelock in /usr/local/lib/python3.10/dist-packages (from torch) (3.15.4)\n",
            "Requirement already satisfied: typing-extensions>=4.8.0 in /usr/local/lib/python3.10/dist-packages (from torch) (4.12.2)\n",
            "Requirement already satisfied: sympy in /usr/local/lib/python3.10/dist-packages (from torch) (1.13.1)\n",
            "Requirement already satisfied: networkx in /usr/local/lib/python3.10/dist-packages (from torch) (3.3)\n",
            "Requirement already satisfied: jinja2 in /usr/local/lib/python3.10/dist-packages (from torch) (3.1.4)\n",
            "Requirement already satisfied: fsspec in /usr/local/lib/python3.10/dist-packages (from torch) (2024.6.1)\n",
            "Collecting nvidia-cuda-nvrtc-cu12==12.1.105 (from torch)\n",
            "  Using cached nvidia_cuda_nvrtc_cu12-12.1.105-py3-none-manylinux1_x86_64.whl.metadata (1.5 kB)\n",
            "Collecting nvidia-cuda-runtime-cu12==12.1.105 (from torch)\n",
            "  Using cached nvidia_cuda_runtime_cu12-12.1.105-py3-none-manylinux1_x86_64.whl.metadata (1.5 kB)\n",
            "Collecting nvidia-cuda-cupti-cu12==12.1.105 (from torch)\n",
            "  Using cached nvidia_cuda_cupti_cu12-12.1.105-py3-none-manylinux1_x86_64.whl.metadata (1.6 kB)\n",
            "Collecting nvidia-cudnn-cu12==8.9.2.26 (from torch)\n",
            "  Using cached nvidia_cudnn_cu12-8.9.2.26-py3-none-manylinux1_x86_64.whl.metadata (1.6 kB)\n",
            "Collecting nvidia-cublas-cu12==12.1.3.1 (from torch)\n",
            "  Using cached nvidia_cublas_cu12-12.1.3.1-py3-none-manylinux1_x86_64.whl.metadata (1.5 kB)\n",
            "Collecting nvidia-cufft-cu12==11.0.2.54 (from torch)\n",
            "  Using cached nvidia_cufft_cu12-11.0.2.54-py3-none-manylinux1_x86_64.whl.metadata (1.5 kB)\n",
            "Collecting nvidia-curand-cu12==10.3.2.106 (from torch)\n",
            "  Using cached nvidia_curand_cu12-10.3.2.106-py3-none-manylinux1_x86_64.whl.metadata (1.5 kB)\n",
            "Collecting nvidia-cusolver-cu12==11.4.5.107 (from torch)\n",
            "  Using cached nvidia_cusolver_cu12-11.4.5.107-py3-none-manylinux1_x86_64.whl.metadata (1.6 kB)\n",
            "Collecting nvidia-cusparse-cu12==12.1.0.106 (from torch)\n",
            "  Using cached nvidia_cusparse_cu12-12.1.0.106-py3-none-manylinux1_x86_64.whl.metadata (1.6 kB)\n",
            "Collecting nvidia-nccl-cu12==2.20.5 (from torch)\n",
            "  Using cached nvidia_nccl_cu12-2.20.5-py3-none-manylinux2014_x86_64.whl.metadata (1.8 kB)\n",
            "Collecting nvidia-nvtx-cu12==12.1.105 (from torch)\n",
            "  Using cached nvidia_nvtx_cu12-12.1.105-py3-none-manylinux1_x86_64.whl.metadata (1.7 kB)\n",
            "Requirement already satisfied: triton==2.3.1 in /usr/local/lib/python3.10/dist-packages (from torch) (2.3.1)\n",
            "Collecting nvidia-nvjitlink-cu12 (from nvidia-cusolver-cu12==11.4.5.107->torch)\n",
            "  Using cached nvidia_nvjitlink_cu12-12.6.20-py3-none-manylinux2014_x86_64.whl.metadata (1.5 kB)\n",
            "Requirement already satisfied: numpy in /usr/local/lib/python3.10/dist-packages (from torchvision) (1.26.4)\n",
            "Requirement already satisfied: huggingface-hub<1.0,>=0.23.2 in /usr/local/lib/python3.10/dist-packages (from transformers) (0.23.5)\n",
            "Requirement already satisfied: packaging>=20.0 in /usr/local/lib/python3.10/dist-packages (from transformers) (24.1)\n",
            "Requirement already satisfied: pyyaml>=5.1 in /usr/local/lib/python3.10/dist-packages (from transformers) (6.0.2)\n",
            "Requirement already satisfied: regex!=2019.12.17 in /usr/local/lib/python3.10/dist-packages (from transformers) (2024.5.15)\n",
            "Requirement already satisfied: requests in /usr/local/lib/python3.10/dist-packages (from transformers) (2.32.3)\n",
            "Requirement already satisfied: safetensors>=0.4.1 in /usr/local/lib/python3.10/dist-packages (from transformers) (0.4.4)\n",
            "Requirement already satisfied: tokenizers<0.20,>=0.19 in /usr/local/lib/python3.10/dist-packages (from transformers) (0.19.1)\n",
            "Requirement already satisfied: tqdm>=4.27 in /usr/local/lib/python3.10/dist-packages (from transformers) (4.66.5)\n",
            "Collecting pyarrow>=15.0.0 (from datasets)\n",
            "  Downloading pyarrow-17.0.0-cp310-cp310-manylinux_2_28_x86_64.whl.metadata (3.3 kB)\n",
            "Requirement already satisfied: pyarrow-hotfix in /usr/local/lib/python3.10/dist-packages (from datasets) (0.6)\n",
            "Collecting dill<0.3.9,>=0.3.0 (from datasets)\n",
            "  Downloading dill-0.3.8-py3-none-any.whl.metadata (10 kB)\n",
            "Requirement already satisfied: pandas in /usr/local/lib/python3.10/dist-packages (from datasets) (2.1.4)\n",
            "Collecting xxhash (from datasets)\n",
            "  Downloading xxhash-3.4.1-cp310-cp310-manylinux_2_17_x86_64.manylinux2014_x86_64.whl.metadata (12 kB)\n",
            "Collecting multiprocess (from datasets)\n",
            "  Downloading multiprocess-0.70.16-py310-none-any.whl.metadata (7.2 kB)\n",
            "Collecting fsspec (from torch)\n",
            "  Downloading fsspec-2024.5.0-py3-none-any.whl.metadata (11 kB)\n",
            "Requirement already satisfied: aiohttp in /usr/local/lib/python3.10/dist-packages (from datasets) (3.10.1)\n",
            "Requirement already satisfied: importlib-metadata in /usr/local/lib/python3.10/dist-packages (from diffusers) (8.2.0)\n",
            "Requirement already satisfied: aiohappyeyeballs>=2.3.0 in /usr/local/lib/python3.10/dist-packages (from aiohttp->datasets) (2.3.4)\n",
            "Requirement already satisfied: aiosignal>=1.1.2 in /usr/local/lib/python3.10/dist-packages (from aiohttp->datasets) (1.3.1)\n",
            "Requirement already satisfied: attrs>=17.3.0 in /usr/local/lib/python3.10/dist-packages (from aiohttp->datasets) (24.2.0)\n",
            "Requirement already satisfied: frozenlist>=1.1.1 in /usr/local/lib/python3.10/dist-packages (from aiohttp->datasets) (1.4.1)\n",
            "Requirement already satisfied: multidict<7.0,>=4.5 in /usr/local/lib/python3.10/dist-packages (from aiohttp->datasets) (6.0.5)\n",
            "Requirement already satisfied: yarl<2.0,>=1.0 in /usr/local/lib/python3.10/dist-packages (from aiohttp->datasets) (1.9.4)\n",
            "Requirement already satisfied: async-timeout<5.0,>=4.0 in /usr/local/lib/python3.10/dist-packages (from aiohttp->datasets) (4.0.3)\n",
            "Requirement already satisfied: charset-normalizer<4,>=2 in /usr/local/lib/python3.10/dist-packages (from requests->transformers) (3.3.2)\n",
            "Requirement already satisfied: idna<4,>=2.5 in /usr/local/lib/python3.10/dist-packages (from requests->transformers) (3.7)\n",
            "Requirement already satisfied: urllib3<3,>=1.21.1 in /usr/local/lib/python3.10/dist-packages (from requests->transformers) (2.0.7)\n",
            "Requirement already satisfied: certifi>=2017.4.17 in /usr/local/lib/python3.10/dist-packages (from requests->transformers) (2024.7.4)\n",
            "Requirement already satisfied: zipp>=0.5 in /usr/local/lib/python3.10/dist-packages (from importlib-metadata->diffusers) (3.19.2)\n",
            "Requirement already satisfied: MarkupSafe>=2.0 in /usr/local/lib/python3.10/dist-packages (from jinja2->torch) (2.1.5)\n",
            "Requirement already satisfied: python-dateutil>=2.8.2 in /usr/local/lib/python3.10/dist-packages (from pandas->datasets) (2.8.2)\n",
            "Requirement already satisfied: pytz>=2020.1 in /usr/local/lib/python3.10/dist-packages (from pandas->datasets) (2024.1)\n",
            "Requirement already satisfied: tzdata>=2022.1 in /usr/local/lib/python3.10/dist-packages (from pandas->datasets) (2024.1)\n",
            "Requirement already satisfied: mpmath<1.4,>=1.1.0 in /usr/local/lib/python3.10/dist-packages (from sympy->torch) (1.3.0)\n",
            "Requirement already satisfied: six>=1.5 in /usr/local/lib/python3.10/dist-packages (from python-dateutil>=2.8.2->pandas->datasets) (1.16.0)\n",
            "Using cached nvidia_cublas_cu12-12.1.3.1-py3-none-manylinux1_x86_64.whl (410.6 MB)\n",
            "Using cached nvidia_cuda_cupti_cu12-12.1.105-py3-none-manylinux1_x86_64.whl (14.1 MB)\n",
            "Using cached nvidia_cuda_nvrtc_cu12-12.1.105-py3-none-manylinux1_x86_64.whl (23.7 MB)\n",
            "Using cached nvidia_cuda_runtime_cu12-12.1.105-py3-none-manylinux1_x86_64.whl (823 kB)\n",
            "Using cached nvidia_cudnn_cu12-8.9.2.26-py3-none-manylinux1_x86_64.whl (731.7 MB)\n",
            "Using cached nvidia_cufft_cu12-11.0.2.54-py3-none-manylinux1_x86_64.whl (121.6 MB)\n",
            "Using cached nvidia_curand_cu12-10.3.2.106-py3-none-manylinux1_x86_64.whl (56.5 MB)\n",
            "Using cached nvidia_cusolver_cu12-11.4.5.107-py3-none-manylinux1_x86_64.whl (124.2 MB)\n",
            "Using cached nvidia_cusparse_cu12-12.1.0.106-py3-none-manylinux1_x86_64.whl (196.0 MB)\n",
            "Using cached nvidia_nccl_cu12-2.20.5-py3-none-manylinux2014_x86_64.whl (176.2 MB)\n",
            "Using cached nvidia_nvtx_cu12-12.1.105-py3-none-manylinux1_x86_64.whl (99 kB)\n",
            "Downloading datasets-2.20.0-py3-none-any.whl (547 kB)\n",
            "\u001b[2K   \u001b[90m━━━━━━━━━━━━━━━━━━━━━━━━━━━━━━━━━━━━━━━━\u001b[0m \u001b[32m547.8/547.8 kB\u001b[0m \u001b[31m4.2 MB/s\u001b[0m eta \u001b[36m0:00:00\u001b[0m\n",
            "\u001b[?25hDownloading diffusers-0.30.0-py3-none-any.whl (2.6 MB)\n",
            "\u001b[2K   \u001b[90m━━━━━━━━━━━━━━━━━━━━━━━━━━━━━━━━━━━━━━━━\u001b[0m \u001b[32m2.6/2.6 MB\u001b[0m \u001b[31m90.7 MB/s\u001b[0m eta \u001b[36m0:00:00\u001b[0m\n",
            "\u001b[?25hDownloading dill-0.3.8-py3-none-any.whl (116 kB)\n",
            "\u001b[2K   \u001b[90m━━━━━━━━━━━━━━━━━━━━━━━━━━━━━━━━━━━━━━━━\u001b[0m \u001b[32m116.3/116.3 kB\u001b[0m \u001b[31m10.6 MB/s\u001b[0m eta \u001b[36m0:00:00\u001b[0m\n",
            "\u001b[?25hDownloading fsspec-2024.5.0-py3-none-any.whl (316 kB)\n",
            "\u001b[2K   \u001b[90m━━━━━━━━━━━━━━━━━━━━━━━━━━━━━━━━━━━━━━━━\u001b[0m \u001b[32m316.1/316.1 kB\u001b[0m \u001b[31m28.0 MB/s\u001b[0m eta \u001b[36m0:00:00\u001b[0m\n",
            "\u001b[?25hDownloading pyarrow-17.0.0-cp310-cp310-manylinux_2_28_x86_64.whl (39.9 MB)\n",
            "\u001b[2K   \u001b[90m━━━━━━━━━━━━━━━━━━━━━━━━━━━━━━━━━━━━━━━━\u001b[0m \u001b[32m39.9/39.9 MB\u001b[0m \u001b[31m56.7 MB/s\u001b[0m eta \u001b[36m0:00:00\u001b[0m\n",
            "\u001b[?25hDownloading multiprocess-0.70.16-py310-none-any.whl (134 kB)\n",
            "\u001b[2K   \u001b[90m━━━━━━━━━━━━━━━━━━━━━━━━━━━━━━━━━━━━━━━━\u001b[0m \u001b[32m134.8/134.8 kB\u001b[0m \u001b[31m12.8 MB/s\u001b[0m eta \u001b[36m0:00:00\u001b[0m\n",
            "\u001b[?25hDownloading xxhash-3.4.1-cp310-cp310-manylinux_2_17_x86_64.manylinux2014_x86_64.whl (194 kB)\n",
            "\u001b[2K   \u001b[90m━━━━━━━━━━━━━━━━━━━━━━━━━━━━━━━━━━━━━━━━\u001b[0m \u001b[32m194.1/194.1 kB\u001b[0m \u001b[31m19.0 MB/s\u001b[0m eta \u001b[36m0:00:00\u001b[0m\n",
            "\u001b[?25hUsing cached nvidia_nvjitlink_cu12-12.6.20-py3-none-manylinux2014_x86_64.whl (19.7 MB)\n",
            "Installing collected packages: xxhash, pyarrow, nvidia-nvtx-cu12, nvidia-nvjitlink-cu12, nvidia-nccl-cu12, nvidia-curand-cu12, nvidia-cufft-cu12, nvidia-cuda-runtime-cu12, nvidia-cuda-nvrtc-cu12, nvidia-cuda-cupti-cu12, nvidia-cublas-cu12, fsspec, dill, nvidia-cusparse-cu12, nvidia-cudnn-cu12, multiprocess, nvidia-cusolver-cu12, diffusers, datasets\n",
            "  Attempting uninstall: pyarrow\n",
            "    Found existing installation: pyarrow 14.0.2\n",
            "    Uninstalling pyarrow-14.0.2:\n",
            "      Successfully uninstalled pyarrow-14.0.2\n",
            "  Attempting uninstall: fsspec\n",
            "    Found existing installation: fsspec 2024.6.1\n",
            "    Uninstalling fsspec-2024.6.1:\n",
            "      Successfully uninstalled fsspec-2024.6.1\n",
            "\u001b[31mERROR: pip's dependency resolver does not currently take into account all the packages that are installed. This behaviour is the source of the following dependency conflicts.\n",
            "cudf-cu12 24.4.1 requires pyarrow<15.0.0a0,>=14.0.1, but you have pyarrow 17.0.0 which is incompatible.\n",
            "gcsfs 2024.6.1 requires fsspec==2024.6.1, but you have fsspec 2024.5.0 which is incompatible.\n",
            "ibis-framework 8.0.0 requires pyarrow<16,>=2, but you have pyarrow 17.0.0 which is incompatible.\u001b[0m\u001b[31m\n",
            "\u001b[0mSuccessfully installed datasets-2.20.0 diffusers-0.30.0 dill-0.3.8 fsspec-2024.5.0 multiprocess-0.70.16 nvidia-cublas-cu12-12.1.3.1 nvidia-cuda-cupti-cu12-12.1.105 nvidia-cuda-nvrtc-cu12-12.1.105 nvidia-cuda-runtime-cu12-12.1.105 nvidia-cudnn-cu12-8.9.2.26 nvidia-cufft-cu12-11.0.2.54 nvidia-curand-cu12-10.3.2.106 nvidia-cusolver-cu12-11.4.5.107 nvidia-cusparse-cu12-12.1.0.106 nvidia-nccl-cu12-2.20.5 nvidia-nvjitlink-cu12-12.6.20 nvidia-nvtx-cu12-12.1.105 pyarrow-17.0.0 xxhash-3.4.1\n"
          ]
        }
      ]
    },
    {
      "cell_type": "code",
      "source": [
        "import zipfile\n",
        "import os\n",
        "import re\n",
        "import csv\n",
        "import pandas as pd\n",
        "import tensorflow as tf\n",
        "from sklearn.model_selection import train_test_split\n",
        "from torch.utils.data import Dataset, DataLoader\n",
        "import torchvision.transforms as transforms\n",
        "from torchvision import models\n",
        "from tensorflow.keras.preprocessing import image\n",
        "from tensorflow.keras.preprocessing.image import ImageDataGenerator\n",
        "from torchvision.models import ResNet50_Weights\n",
        "from PIL import Image\n",
        "import torch\n",
        "import torch.nn as nn\n",
        "import torch.optim as optim\n",
        "from PIL import Image\n",
        "import matplotlib.pyplot as plt\n",
        "import numpy as np\n",
        "from keras.models import load_model\n",
        "from diffusers import StableDiffusionInpaintPipeline\n",
        "from diffusers import DiffusionPipeline\n"
      ],
      "metadata": {
        "id": "YIb-fulWxa9v"
      },
      "execution_count": null,
      "outputs": []
    },
    {
      "cell_type": "markdown",
      "source": [
        "[Data download here](https://drive.google.com/file/d/1ja4ZeewIY_CGV5DpOXDOXNoBQ9uu_x5w/view?usp=sharing)"
      ],
      "metadata": {
        "id": "HBbZ8TCeHRAR"
      }
    },
    {
      "cell_type": "code",
      "source": [
        "!pip install gdown"
      ],
      "metadata": {
        "colab": {
          "base_uri": "https://localhost:8080/"
        },
        "id": "pYx4k82iTXRe",
        "outputId": "86e45860-5313-4498-943d-459981d8b8d7"
      },
      "execution_count": null,
      "outputs": [
        {
          "output_type": "stream",
          "name": "stdout",
          "text": [
            "Requirement already satisfied: gdown in /usr/local/lib/python3.10/dist-packages (5.1.0)\n",
            "Requirement already satisfied: beautifulsoup4 in /usr/local/lib/python3.10/dist-packages (from gdown) (4.12.3)\n",
            "Requirement already satisfied: filelock in /usr/local/lib/python3.10/dist-packages (from gdown) (3.15.4)\n",
            "Requirement already satisfied: requests[socks] in /usr/local/lib/python3.10/dist-packages (from gdown) (2.32.3)\n",
            "Requirement already satisfied: tqdm in /usr/local/lib/python3.10/dist-packages (from gdown) (4.66.5)\n",
            "Requirement already satisfied: soupsieve>1.2 in /usr/local/lib/python3.10/dist-packages (from beautifulsoup4->gdown) (2.5)\n",
            "Requirement already satisfied: charset-normalizer<4,>=2 in /usr/local/lib/python3.10/dist-packages (from requests[socks]->gdown) (3.3.2)\n",
            "Requirement already satisfied: idna<4,>=2.5 in /usr/local/lib/python3.10/dist-packages (from requests[socks]->gdown) (3.7)\n",
            "Requirement already satisfied: urllib3<3,>=1.21.1 in /usr/local/lib/python3.10/dist-packages (from requests[socks]->gdown) (2.0.7)\n",
            "Requirement already satisfied: certifi>=2017.4.17 in /usr/local/lib/python3.10/dist-packages (from requests[socks]->gdown) (2024.7.4)\n",
            "Requirement already satisfied: PySocks!=1.5.7,>=1.5.6 in /usr/local/lib/python3.10/dist-packages (from requests[socks]->gdown) (1.7.1)\n"
          ]
        }
      ]
    },
    {
      "cell_type": "code",
      "source": [
        "import gdown\n",
        "\n",
        "url = 'https://drive.google.com/file/d/1ja4ZeewIY_CGV5DpOXDOXNoBQ9uu_x5w/view?usp=drive_link'\n",
        "output_path = 'pic.zip'\n",
        "gdown.download(url, output_path, quiet=False,fuzzy=True)"
      ],
      "metadata": {
        "colab": {
          "base_uri": "https://localhost:8080/",
          "height": 122
        },
        "id": "PcvjRiafT7WX",
        "outputId": "a9bee33c-d35a-4beb-ecbc-ca0312bd7b94"
      },
      "execution_count": null,
      "outputs": [
        {
          "output_type": "stream",
          "name": "stderr",
          "text": [
            "Downloading...\n",
            "From (original): https://drive.google.com/uc?id=1ja4ZeewIY_CGV5DpOXDOXNoBQ9uu_x5w\n",
            "From (redirected): https://drive.google.com/uc?id=1ja4ZeewIY_CGV5DpOXDOXNoBQ9uu_x5w&confirm=t&uuid=58f4bd1e-ef6c-46ee-a65e-e662c4aff8f0\n",
            "To: /content/pic.zip\n",
            "100%|██████████| 71.2M/71.2M [00:04<00:00, 17.7MB/s]\n"
          ]
        },
        {
          "output_type": "execute_result",
          "data": {
            "text/plain": [
              "'pic.zip'"
            ],
            "application/vnd.google.colaboratory.intrinsic+json": {
              "type": "string"
            }
          },
          "metadata": {},
          "execution_count": 4
        }
      ]
    },
    {
      "cell_type": "code",
      "execution_count": null,
      "metadata": {
        "id": "DaFrIe_O6aEe"
      },
      "outputs": [],
      "source": [
        "# Extract information from filename\n",
        "def extract_info(filename):\n",
        "    match = re.search(r'(\\d+)a(\\d+)e(\\d+)', filename)\n",
        "    if match:\n",
        "        pic_number = match.group(1)\n",
        "        warp = int(match.group(2))\n",
        "        weft = int(match.group(3))\n",
        "        return pic_number, warp, weft\n",
        "    return None, None, None\n",
        "\n",
        "# File paths\n",
        "zip_path = 'pic.zip'\n",
        "extract_path = 'extracted_pics'\n",
        "csv_path = 'warp_weft_data.csv'\n",
        "combined_dir = 'combined_images'\n",
        "\n",
        "# Create necessary directories\n",
        "os.makedirs(extract_path, exist_ok=True)\n",
        "os.makedirs(combined_dir, exist_ok=True)\n",
        "\n",
        "# Extract zip file with error handling\n",
        "try:\n",
        "    with zipfile.ZipFile(zip_path, 'r') as zip_ref:\n",
        "        zip_ref.extractall(extract_path)\n",
        "except zipfile.BadZipFile as e:\n",
        "    print(f\"Error: {e}\")\n",
        "    print(\"The zip file could not be opened. Please check the file and try again.\")\n",
        "    raise\n"
      ]
    },
    {
      "cell_type": "code",
      "source": [
        "pipe = DiffusionPipeline.from_pretrained(\"timbrooks/instruct-pix2pix\")\n",
        "pipe = pipe.to(\"cuda\")"
      ],
      "metadata": {
        "colab": {
          "base_uri": "https://localhost:8080/",
          "height": 49,
          "referenced_widgets": [
            "0a1650f3fcbc4f96b1b4ae3aa3eddbfb",
            "8c85f96dc71b48a7adce1c2dc0d4cc80",
            "a8cdcb17ef7648568d828b244960a154",
            "524f59be430a49e59bb7c4a5594ec926",
            "26ae0162dade4360b2e82dffc593fe03",
            "e3228c79ab744874b14eabdf52bda390",
            "375399d959d34d33a0ac3bda7224aad0",
            "af58d3cb2005447cb85968b5699475ef",
            "8e0e2e40c717460e88bd951b174df318",
            "354d908d88894e16a7a993999a206bc0",
            "63a29ee2f9b4480280a483b347af7ffa"
          ]
        },
        "id": "8H13zq58Xlav",
        "outputId": "1affa094-c6e3-4183-9e67-9d3800798b30"
      },
      "execution_count": null,
      "outputs": [
        {
          "output_type": "display_data",
          "data": {
            "text/plain": [
              "Loading pipeline components...:   0%|          | 0/7 [00:00<?, ?it/s]"
            ],
            "application/vnd.jupyter.widget-view+json": {
              "version_major": 2,
              "version_minor": 0,
              "model_id": "0a1650f3fcbc4f96b1b4ae3aa3eddbfb"
            }
          },
          "metadata": {}
        }
      ]
    },
    {
      "cell_type": "code",
      "source": [
        "warp_weft_dict = {}\n",
        "warp_weft_data = []\n",
        "for root, dirs, files in os.walk(extract_path):\n",
        "    for file in files:\n",
        "        filename, file_extension = os.path.splitext(file)\n",
        "        if file_extension in ['.png']:\n",
        "            pic_number, warp, weft = extract_info(filename)\n",
        "            if pic_number is not None and warp is not None and weft is not None:\n",
        "                new_filename = f\"{pic_number}{file_extension}\"\n",
        "                old_file_path = os.path.join(root, file)\n",
        "                new_file_path = os.path.join(root, new_filename)\n",
        "                os.rename(old_file_path, new_file_path)\n",
        "                warp_weft_dict[new_filename] = (warp, weft)\n",
        "\n",
        "                # Load original image\n",
        "                original_image = Image.open(new_file_path).convert(\"RGB\").resize((512, 512))\n",
        "\n",
        "                # Save original image to the combined directory\n",
        "                original_image.save(os.path.join(combined_dir, new_filename))\n",
        "                warp_weft_data.append([new_filename, warp, weft])\n",
        "\n",
        "                # Augment the image 20 times and save\n",
        "                for i in range(20):\n",
        "                    prompt = \"Create a drawing with a different style and color\"\n",
        "\n",
        "                    # Generate augmented image using the pipeline\n",
        "                    augmented_image = pipe(prompt=prompt, image=original_image).images[0]\n",
        "\n",
        "                    # Save the augmented image\n",
        "                    aug_filename = f\"{pic_number}_aug_{i+1}{file_extension}\"\n",
        "                    aug_file_path = os.path.join(combined_dir, aug_filename)\n",
        "                    augmented_image.save(aug_file_path)\n",
        "                    warp_weft_data.append([aug_filename, warp, weft])\n",
        "\n",
        "# Save warp and weft data to CSV\n",
        "with open(csv_path, 'w', newline='') as csvfile:\n",
        "    csvwriter = csv.writer(csvfile)\n",
        "    csvwriter.writerow(['Filename', 'Warp', 'Weft'])\n",
        "    csvwriter.writerows(warp_weft_data)\n",
        "\n",
        "print(f'Images extracted to {extract_path} and warp/weft data, including augmented images, saved to {csv_path}')"
      ],
      "metadata": {
        "id": "dfhF772XYKUm"
      },
      "execution_count": null,
      "outputs": []
    },
    {
      "cell_type": "code",
      "source": [
        "# Data augmentation setup\n",
        "datagen = ImageDataGenerator(\n",
        "    rotation_range=20,\n",
        "    width_shift_range=0.2,\n",
        "    height_shift_range=0.2,\n",
        "    shear_range=0.2,\n",
        "    zoom_range=0.2,\n",
        "    horizontal_flip=True,\n",
        "    fill_mode='nearest'\n",
        ")\n",
        "\n",
        "# Function to augment images and update CSV\n",
        "def augment_image(image_path, save_dir, original_filename, warp, weft):\n",
        "    img = image.load_img(image_path)\n",
        "    x = image.img_to_array(img)\n",
        "    x = x.reshape((1,) + x.shape)\n",
        "\n",
        "    # Generate and save augmented images\n",
        "    i = 0\n",
        "    for batch in datagen.flow(x, batch_size=1):\n",
        "        i += 1\n",
        "        augmented_filename = f'{original_filename.split(\".\")[0]}_{i:02d}.png'\n",
        "        augmented_filepath = os.path.join(save_dir, augmented_filename)\n",
        "        image.save_img(augmented_filepath, batch[0])\n",
        "        augmented_data.append([augmented_filename, warp, weft])\n",
        "        if i >= 20:  # Generate 20 augmented images per original image\n",
        "            break\n",
        "\n",
        "# Apply augmentation to all images and update the CSV file\n",
        "augmented_data = []\n",
        "for root, dirs, files in os.walk(extract_path):\n",
        "    for file in files:\n",
        "        file_path = os.path.join(root, file)\n",
        "        warp, weft = warp_weft_dict.get(file, (None, None))\n",
        "        if warp is not None and weft is not None:\n",
        "            augment_image(file_path, combined_dir, file, warp, weft)\n",
        "\n",
        "# Update the CSV file with augmented data\n",
        "with open(csv_path, 'a', newline='') as csvfile:\n",
        "    csvwriter = csv.writer(csvfile)\n",
        "    csvwriter.writerows(augmented_data)\n",
        "\n",
        "print(f'Original and augmented images saved to {combined_dir} and updated warp/weft data saved to {csv_path}')"
      ],
      "metadata": {
        "colab": {
          "base_uri": "https://localhost:8080/"
        },
        "id": "alpYKb55tue6",
        "outputId": "0bb99f37-95e2-469f-d91a-2ab95c59eb66"
      },
      "execution_count": null,
      "outputs": [
        {
          "output_type": "stream",
          "name": "stdout",
          "text": [
            "Original and augmented images saved to combined_images and updated warp/weft data saved to warp_weft_data.csv\n"
          ]
        }
      ]
    },
    {
      "cell_type": "code",
      "source": [
        "# Define the dataset class\n",
        "class WeftWarpDataset(Dataset):\n",
        "    def __init__(self, image_dir, csv_file, target, transform=None):\n",
        "        self.image_dir = image_dir\n",
        "        self.data = pd.read_csv(csv_file)\n",
        "        self.transform = transform\n",
        "        self.target = target\n",
        "\n",
        "    def __len__(self):\n",
        "        return len(self.data)\n",
        "\n",
        "    def __getitem__(self, idx):\n",
        "        img_name = os.path.join(self.image_dir, self.data.iloc[idx, 0])\n",
        "        image = Image.open(img_name).convert(\"RGB\")\n",
        "        if self.target == 'weft':\n",
        "            target_value = self.data.iloc[idx, 2]\n",
        "        else:\n",
        "            target_value = self.data.iloc[idx, 1]\n",
        "\n",
        "        if self.transform:\n",
        "            image = self.transform(image)\n",
        "\n",
        "        return image, target_value\n",
        "\n",
        "# Define the transformations\n",
        "transform = transforms.Compose([\n",
        "    transforms.Resize((416, 416)),\n",
        "    transforms.ToTensor()\n",
        "])"
      ],
      "metadata": {
        "id": "XSib4VeEBJqs"
      },
      "execution_count": null,
      "outputs": []
    },
    {
      "cell_type": "code",
      "source": [
        "# Load the combined CSV data\n",
        "data = pd.read_csv(csv_path)\n",
        "\n",
        "train_val_data, test_data = train_test_split(data, test_size=0.1, random_state=42)\n",
        "\n",
        "# Then, split the remaining data into training and validation sets (80% train, 10% validation)\n",
        "train_data, val_data = train_test_split(train_val_data, test_size=0.1111, random_state=42)\n",
        "\n",
        "# Save the splits to separate CSV files\n",
        "train_csv_path = 'warp_weft_train_data.csv'\n",
        "val_csv_path = 'warp_weft_val_data.csv'\n",
        "test_csv_path = 'warp_weft_test_data.csv'\n",
        "\n",
        "train_data.to_csv(train_csv_path, index=False)\n",
        "val_data.to_csv(val_csv_path, index=False)\n",
        "test_data.to_csv(test_csv_path, index=False)"
      ],
      "metadata": {
        "id": "8MzKbjxcx90A"
      },
      "execution_count": null,
      "outputs": []
    },
    {
      "cell_type": "code",
      "source": [
        "# Create datasets for weft\n",
        "train_dataset_weft = WeftWarpDataset(combined_dir, train_csv_path, target='weft', transform=transform)\n",
        "val_dataset_weft = WeftWarpDataset(combined_dir, val_csv_path, target='weft', transform=transform)\n",
        "test_dataset_weft = WeftWarpDataset(combined_dir, test_csv_path, target='weft', transform=transform)\n",
        "\n",
        "# Create data loaders for weft\n",
        "train_loader_weft = DataLoader(train_dataset_weft, batch_size=64, shuffle=True)\n",
        "val_loader_weft = DataLoader(val_dataset_weft, batch_size=64, shuffle=False)\n",
        "test_loader_weft = DataLoader(test_dataset_weft, batch_size=64, shuffle=False)\n",
        "\n",
        "# Create datasets for warp\n",
        "train_dataset_warp = WeftWarpDataset(combined_dir, train_csv_path, target='warp', transform=transform)\n",
        "val_dataset_warp = WeftWarpDataset(combined_dir, val_csv_path, target='warp', transform=transform)\n",
        "test_dataset_warp = WeftWarpDataset(combined_dir, test_csv_path, target='warp', transform=transform)\n",
        "\n",
        "# Create data loaders for warp\n",
        "train_loader_warp = DataLoader(train_dataset_warp, batch_size=64, shuffle=True)\n",
        "val_loader_warp = DataLoader(val_dataset_warp, batch_size=64, shuffle=False)\n",
        "test_loader_warp = DataLoader(test_dataset_warp, batch_size=64, shuffle=False)\n",
        "\n",
        "print(\"Data loaders created for weft and warp training, validation, and test sets.\")"
      ],
      "metadata": {
        "colab": {
          "base_uri": "https://localhost:8080/"
        },
        "id": "n-RkBqZJqnFg",
        "outputId": "e3a4601e-1540-4365-8aad-bec94f3a39cd"
      },
      "execution_count": null,
      "outputs": [
        {
          "output_type": "stream",
          "name": "stdout",
          "text": [
            "Data loaders created for weft and warp training, validation, and test sets.\n"
          ]
        }
      ]
    },
    {
      "cell_type": "code",
      "source": [
        "def get_resnet_model():\n",
        "    model = models.resnet50(pretrained=True)\n",
        "    num_features = model.fc.in_features\n",
        "    model.fc = nn.Linear(num_features, 1)\n",
        "    return model\n",
        "\n",
        "# Initialize models\n",
        "model_weft = get_resnet_model()\n",
        "model_warp = get_resnet_model()\n",
        "\n",
        "# Loss function and optimizers\n",
        "criterion = nn.MSELoss()\n",
        "optimizer_weft = torch.optim.Adam(model_weft.parameters(), lr=0.001)\n",
        "optimizer_warp = torch.optim.Adam(model_warp.parameters(), lr=0.001)"
      ],
      "metadata": {
        "colab": {
          "base_uri": "https://localhost:8080/"
        },
        "id": "cRMBhjH0xXGO",
        "outputId": "6d8033ec-02de-4df9-e716-c405fa8af7fc"
      },
      "execution_count": null,
      "outputs": [
        {
          "output_type": "stream",
          "name": "stderr",
          "text": [
            "/usr/local/lib/python3.10/dist-packages/torchvision/models/_utils.py:208: UserWarning: The parameter 'pretrained' is deprecated since 0.13 and may be removed in the future, please use 'weights' instead.\n",
            "  warnings.warn(\n",
            "/usr/local/lib/python3.10/dist-packages/torchvision/models/_utils.py:223: UserWarning: Arguments other than a weight enum or `None` for 'weights' are deprecated since 0.13 and may be removed in the future. The current behavior is equivalent to passing `weights=ResNet50_Weights.IMAGENET1K_V1`. You can also use `weights=ResNet50_Weights.DEFAULT` to get the most up-to-date weights.\n",
            "  warnings.warn(msg)\n"
          ]
        }
      ]
    },
    {
      "cell_type": "code",
      "source": [
        "from tqdm import tqdm"
      ],
      "metadata": {
        "id": "DeaACcqUyynF"
      },
      "execution_count": null,
      "outputs": []
    },
    {
      "cell_type": "code",
      "source": [
        "num_epochs = 100\n",
        "best_weft_accuracy = 0.0\n",
        "best_warp_accuracy = 0.0\n",
        "patience = 10\n",
        "early_stop_counter = 0\n",
        "best_val_loss = float('inf')\n",
        "\n",
        "# Training and validation for weft model\n",
        "for epoch in range(num_epochs):\n",
        "    model_weft.train()\n",
        "    running_loss = 0.0\n",
        "    for images, targets in tqdm(train_loader_weft, desc=f\"Training Epoch {epoch+1}/{num_epochs} [Weft]\"):\n",
        "        optimizer_weft.zero_grad()\n",
        "        images = images.to(torch.float32)\n",
        "\n",
        "        # Debug statement: check image values\n",
        "        if torch.any(torch.isnan(images)):\n",
        "            print(\"NaN values found in images during training!\")\n",
        "            break\n",
        "\n",
        "        outputs = model_weft(images)\n",
        "        targets = targets.float().unsqueeze(1)\n",
        "\n",
        "        # Debug statement: check targets values\n",
        "        if torch.any(torch.isnan(targets)):\n",
        "            print(\"NaN values found in targets during training!\")\n",
        "            break\n",
        "\n",
        "        loss = criterion(outputs, targets)\n",
        "\n",
        "        # Debug statement: check loss value\n",
        "        if torch.isnan(loss):\n",
        "            print(\"NaN value found in loss during training!\")\n",
        "            break\n",
        "\n",
        "        loss.backward()\n",
        "        optimizer_weft.step()\n",
        "\n",
        "        running_loss += loss.item() * images.size(0)\n",
        "\n",
        "    epoch_loss = running_loss / len(train_loader_weft.dataset)\n",
        "    print(f'Epoch [{epoch+1}/{num_epochs}] Weft, Training Loss: {epoch_loss:.4f}')\n",
        "\n",
        "    # Validation step\n",
        "    model_weft.eval()\n",
        "    val_loss = 0.0\n",
        "    with torch.no_grad():\n",
        "        for images, targets in tqdm(val_loader_weft, desc=f\"Validation Epoch {epoch+1}/{num_epochs} [Weft]\"):\n",
        "            images = images.to(torch.float32)\n",
        "            outputs = model_weft(images)\n",
        "            targets = targets.float().unsqueeze(1)\n",
        "            loss = criterion(outputs, targets)\n",
        "            val_loss += loss.item() * images.size(0)\n",
        "    val_loss /= len(val_loader_weft.dataset)\n",
        "    print(f'Epoch [{epoch+1}/{num_epochs}] Weft, Validation Loss: {val_loss:.4f}')\n",
        "\n",
        "    # Early stopping check\n",
        "    if val_loss < best_val_loss:\n",
        "        best_val_loss = val_loss\n",
        "        early_stop_counter = 0\n",
        "    else:\n",
        "        early_stop_counter += 1\n",
        "        if early_stop_counter >= patience:\n",
        "            print(\"Early stopping triggered\")\n",
        "            break\n",
        "\n",
        "    # Evaluate weft model on test set\n",
        "    correct = 0\n",
        "    total = 0\n",
        "    with torch.no_grad():\n",
        "        for images, targets in test_loader_weft:\n",
        "            images = images.to(torch.float32)\n",
        "            outputs = model_weft(images)\n",
        "            total += targets.size(0)\n",
        "            correct += ((outputs - targets.unsqueeze(1)).abs() <= 0.5).sum().item()\n",
        "    accuracy = correct / total\n",
        "    print(f'Accuracy on test set [Weft]: {accuracy:.4f}')\n",
        "\n",
        "    # Save the best weft model\n",
        "    if accuracy > best_weft_accuracy:\n",
        "        best_weft_accuracy = accuracy\n",
        "        torch.save(model_weft.state_dict(), 'best_weft_model.pth')"
      ],
      "metadata": {
        "colab": {
          "base_uri": "https://localhost:8080/"
        },
        "id": "T65F_XBDBuVu",
        "outputId": "c1da500f-177e-4cab-c4e4-270ee41dc8cd"
      },
      "execution_count": null,
      "outputs": [
        {
          "output_type": "stream",
          "name": "stderr",
          "text": [
            "Training Epoch 1/100 [Weft]: 100%|██████████| 10/10 [05:04<00:00, 30.44s/it]\n"
          ]
        },
        {
          "output_type": "stream",
          "name": "stdout",
          "text": [
            "Epoch [1/100] Weft, Training Loss: 0.6198\n"
          ]
        },
        {
          "output_type": "stream",
          "name": "stderr",
          "text": [
            "Validation Epoch 1/100 [Weft]: 100%|██████████| 2/2 [00:14<00:00,  7.32s/it]\n"
          ]
        },
        {
          "output_type": "stream",
          "name": "stdout",
          "text": [
            "Epoch [1/100] Weft, Validation Loss: 0.2418\n",
            "Accuracy on test set [Weft]: 0.7368\n"
          ]
        },
        {
          "output_type": "stream",
          "name": "stderr",
          "text": [
            "Training Epoch 2/100 [Weft]: 100%|██████████| 10/10 [05:03<00:00, 30.38s/it]\n"
          ]
        },
        {
          "output_type": "stream",
          "name": "stdout",
          "text": [
            "Epoch [2/100] Weft, Training Loss: 0.4678\n"
          ]
        },
        {
          "output_type": "stream",
          "name": "stderr",
          "text": [
            "Validation Epoch 2/100 [Weft]: 100%|██████████| 2/2 [00:13<00:00,  6.83s/it]\n"
          ]
        },
        {
          "output_type": "stream",
          "name": "stdout",
          "text": [
            "Epoch [2/100] Weft, Validation Loss: 0.2220\n",
            "Accuracy on test set [Weft]: 0.8289\n"
          ]
        },
        {
          "output_type": "stream",
          "name": "stderr",
          "text": [
            "Training Epoch 3/100 [Weft]:  10%|█         | 1/10 [00:33<04:59, 33.26s/it]"
          ]
        }
      ]
    },
    {
      "cell_type": "code",
      "source": [
        "early_stop_counter_warp = 0\n",
        "best_val_loss_warp = float('inf')"
      ],
      "metadata": {
        "id": "f2NatE6Xagq4"
      },
      "execution_count": null,
      "outputs": []
    },
    {
      "cell_type": "code",
      "source": [
        "# Training and validation for warp model\n",
        "for epoch in range(num_epochs):\n",
        "    model_warp.train()\n",
        "    running_loss = 0.0\n",
        "    for images, targets in tqdm(train_loader_warp, desc=f\"Training Epoch {epoch+1}/{num_epochs} [Warp]\"):\n",
        "        optimizer_warp.zero_grad()\n",
        "        images = images.to(torch.float32)\n",
        "\n",
        "        # Debug statement: check image values\n",
        "        if torch.any(torch.isnan(images)):\n",
        "            print(\"NaN values found in images during training!\")\n",
        "            break\n",
        "\n",
        "        outputs = model_warp(images)\n",
        "        targets = targets.float().unsqueeze(1)\n",
        "\n",
        "        # Debug statement: check targets values\n",
        "        if torch.any(torch.isnan(targets)):\n",
        "            print(\"NaN values found in targets during training!\")\n",
        "            break\n",
        "\n",
        "        loss = criterion(outputs, targets)\n",
        "\n",
        "        # Debug statement: check loss value\n",
        "        if torch.isnan(loss):\n",
        "            print(\"NaN value found in loss during training!\")\n",
        "            break\n",
        "\n",
        "        loss.backward()\n",
        "        optimizer_warp.step()\n",
        "\n",
        "        running_loss += loss.item() * images.size(0)\n",
        "\n",
        "    epoch_loss = running_loss / len(train_loader_warp.dataset)\n",
        "    print(f'Epoch [{epoch+1}/{num_epochs}] Warp, Training Loss: {epoch_loss:.4f}')\n",
        "\n",
        "    # Validation step\n",
        "    model_warp.eval()\n",
        "    val_loss = 0.0\n",
        "    with torch.no_grad():\n",
        "        for images, targets in tqdm(val_loader_warp, desc=f\"Validation Epoch {epoch+1}/{num_epochs} [Warp]\"):\n",
        "            images = images.to(torch.float32)\n",
        "            outputs = model_warp(images)\n",
        "            targets = targets.float().unsqueeze(1)\n",
        "            loss = criterion(outputs, targets)\n",
        "            val_loss += loss.item() * images.size(0)\n",
        "    val_loss /= len(val_loader_warp.dataset)\n",
        "    print(f'Epoch [{epoch+1}/{num_epochs}] Warp, Validation Loss: {val_loss:.4f}')\n",
        "\n",
        "    # Early stopping check\n",
        "    if val_loss < best_val_loss_warp:\n",
        "        best_val_loss_warp = val_loss\n",
        "        early_stop_counter_warp = 0\n",
        "    else:\n",
        "        early_stop_counter_warp += 1\n",
        "        if early_stop_counter_warp >= patience:\n",
        "            print(\"Early stopping triggered for Warp model\")\n",
        "            break\n",
        "\n",
        "    # Evaluate warp model on test set\n",
        "    correct = 0\n",
        "    total = 0\n",
        "    with torch.no_grad():\n",
        "        for images, targets in test_loader_warp:\n",
        "            images = images.to(torch.float32)\n",
        "            outputs = model_warp(images)\n",
        "            total += targets.size(0)\n",
        "            correct += ((outputs - targets.unsqueeze(1)).abs() <= 0.5).sum().item()\n",
        "    accuracy = correct / total\n",
        "    print(f'Accuracy on test set [Warp]: {accuracy:.4f}')\n",
        "\n",
        "    # Save the best warp model\n",
        "    if accuracy > best_warp_accuracy:\n",
        "        best_warp_accuracy = accuracy\n",
        "        torch.save(model_warp.state_dict(), 'best_warp_model.pth')"
      ],
      "metadata": {
        "id": "Rve0Eid6SkwL",
        "colab": {
          "base_uri": "https://localhost:8080/"
        },
        "outputId": "3fd749c6-74a3-4fe4-82ce-6c4e377b78a6"
      },
      "execution_count": null,
      "outputs": [
        {
          "metadata": {
            "tags": null
          },
          "name": "stderr",
          "output_type": "stream",
          "text": [
            "Training Epoch 1/100 [Warp]: 100%|██████████| 10/10 [05:08<00:00, 30.86s/it]\n"
          ]
        },
        {
          "metadata": {
            "tags": null
          },
          "name": "stdout",
          "output_type": "stream",
          "text": [
            "Epoch [1/100] Warp, Training Loss: 12.0122\n"
          ]
        },
        {
          "metadata": {
            "tags": null
          },
          "name": "stderr",
          "output_type": "stream",
          "text": [
            "Validation Epoch 1/100 [Warp]: 100%|██████████| 2/2 [00:14<00:00,  7.36s/it]\n"
          ]
        },
        {
          "metadata": {
            "tags": null
          },
          "name": "stdout",
          "output_type": "stream",
          "text": [
            "Epoch [1/100] Warp, Validation Loss: 5787.7968\n",
            "Accuracy on test set [Warp]: 0.0263\n"
          ]
        },
        {
          "metadata": {
            "tags": null
          },
          "name": "stderr",
          "output_type": "stream",
          "text": [
            "Training Epoch 2/100 [Warp]: 100%|██████████| 10/10 [05:07<00:00, 30.76s/it]\n"
          ]
        },
        {
          "metadata": {
            "tags": null
          },
          "name": "stdout",
          "output_type": "stream",
          "text": [
            "Epoch [2/100] Warp, Training Loss: 11.9454\n"
          ]
        },
        {
          "metadata": {
            "tags": null
          },
          "name": "stderr",
          "output_type": "stream",
          "text": [
            "Validation Epoch 2/100 [Warp]: 100%|██████████| 2/2 [00:14<00:00,  7.41s/it]\n"
          ]
        },
        {
          "metadata": {
            "tags": null
          },
          "name": "stdout",
          "output_type": "stream",
          "text": [
            "Epoch [2/100] Warp, Validation Loss: 65.1965\n",
            "Accuracy on test set [Warp]: 0.0789\n"
          ]
        },
        {
          "metadata": {
            "tags": null
          },
          "name": "stderr",
          "output_type": "stream",
          "text": [
            "Training Epoch 3/100 [Warp]: 100%|██████████| 10/10 [05:07<00:00, 30.73s/it]\n"
          ]
        },
        {
          "metadata": {
            "tags": null
          },
          "name": "stdout",
          "output_type": "stream",
          "text": [
            "Epoch [3/100] Warp, Training Loss: 8.3709\n"
          ]
        },
        {
          "metadata": {
            "tags": null
          },
          "name": "stderr",
          "output_type": "stream",
          "text": [
            "Validation Epoch 3/100 [Warp]: 100%|██████████| 2/2 [00:14<00:00,  7.41s/it]\n"
          ]
        },
        {
          "metadata": {
            "tags": null
          },
          "name": "stdout",
          "output_type": "stream",
          "text": [
            "Epoch [3/100] Warp, Validation Loss: 114.9597\n",
            "Accuracy on test set [Warp]: 0.1447\n"
          ]
        },
        {
          "metadata": {
            "tags": null
          },
          "name": "stderr",
          "output_type": "stream",
          "text": [
            "Training Epoch 4/100 [Warp]: 100%|██████████| 10/10 [05:07<00:00, 30.75s/it]\n"
          ]
        },
        {
          "metadata": {
            "tags": null
          },
          "name": "stdout",
          "output_type": "stream",
          "text": [
            "Epoch [4/100] Warp, Training Loss: 11.0502\n"
          ]
        },
        {
          "metadata": {
            "tags": null
          },
          "name": "stderr",
          "output_type": "stream",
          "text": [
            "Validation Epoch 4/100 [Warp]: 100%|██████████| 2/2 [00:14<00:00,  7.48s/it]\n"
          ]
        },
        {
          "metadata": {
            "tags": null
          },
          "name": "stdout",
          "output_type": "stream",
          "text": [
            "Epoch [4/100] Warp, Validation Loss: 24.5867\n",
            "Accuracy on test set [Warp]: 0.2105\n"
          ]
        },
        {
          "metadata": {
            "tags": null
          },
          "name": "stderr",
          "output_type": "stream",
          "text": [
            "Training Epoch 5/100 [Warp]: 100%|██████████| 10/10 [05:07<00:00, 30.75s/it]\n"
          ]
        },
        {
          "metadata": {
            "tags": null
          },
          "name": "stdout",
          "output_type": "stream",
          "text": [
            "Epoch [5/100] Warp, Training Loss: 6.3033\n"
          ]
        },
        {
          "metadata": {
            "tags": null
          },
          "name": "stderr",
          "output_type": "stream",
          "text": [
            "Validation Epoch 5/100 [Warp]: 100%|██████████| 2/2 [00:14<00:00,  7.47s/it]\n"
          ]
        },
        {
          "metadata": {
            "tags": null
          },
          "name": "stdout",
          "output_type": "stream",
          "text": [
            "Epoch [5/100] Warp, Validation Loss: 8.5304\n",
            "Accuracy on test set [Warp]: 0.2500\n"
          ]
        },
        {
          "metadata": {
            "tags": null
          },
          "name": "stderr",
          "output_type": "stream",
          "text": [
            "Training Epoch 6/100 [Warp]: 100%|██████████| 10/10 [05:06<00:00, 30.68s/it]\n"
          ]
        },
        {
          "metadata": {
            "tags": null
          },
          "name": "stdout",
          "output_type": "stream",
          "text": [
            "Epoch [6/100] Warp, Training Loss: 6.2062\n"
          ]
        },
        {
          "metadata": {
            "tags": null
          },
          "name": "stderr",
          "output_type": "stream",
          "text": [
            "Validation Epoch 6/100 [Warp]: 100%|██████████| 2/2 [00:14<00:00,  7.45s/it]\n"
          ]
        },
        {
          "metadata": {
            "tags": null
          },
          "name": "stdout",
          "output_type": "stream",
          "text": [
            "Epoch [6/100] Warp, Validation Loss: 20.8288\n",
            "Accuracy on test set [Warp]: 0.2237\n"
          ]
        },
        {
          "metadata": {
            "tags": null
          },
          "name": "stderr",
          "output_type": "stream",
          "text": [
            "Training Epoch 7/100 [Warp]: 100%|██████████| 10/10 [05:07<00:00, 30.73s/it]\n"
          ]
        },
        {
          "metadata": {
            "tags": null
          },
          "name": "stdout",
          "output_type": "stream",
          "text": [
            "Epoch [7/100] Warp, Training Loss: 3.8965\n"
          ]
        },
        {
          "metadata": {
            "tags": null
          },
          "name": "stderr",
          "output_type": "stream",
          "text": [
            "Validation Epoch 7/100 [Warp]: 100%|██████████| 2/2 [00:14<00:00,  7.36s/it]\n"
          ]
        },
        {
          "metadata": {
            "tags": null
          },
          "name": "stdout",
          "output_type": "stream",
          "text": [
            "Epoch [7/100] Warp, Validation Loss: 3.4374\n",
            "Accuracy on test set [Warp]: 0.3158\n"
          ]
        },
        {
          "metadata": {
            "tags": null
          },
          "name": "stderr",
          "output_type": "stream",
          "text": [
            "Training Epoch 8/100 [Warp]: 100%|██████████| 10/10 [05:07<00:00, 30.73s/it]\n"
          ]
        },
        {
          "metadata": {
            "tags": null
          },
          "name": "stdout",
          "output_type": "stream",
          "text": [
            "Epoch [8/100] Warp, Training Loss: 3.1894\n"
          ]
        },
        {
          "metadata": {
            "tags": null
          },
          "name": "stderr",
          "output_type": "stream",
          "text": [
            "Validation Epoch 8/100 [Warp]: 100%|██████████| 2/2 [00:14<00:00,  7.40s/it]\n"
          ]
        },
        {
          "metadata": {
            "tags": null
          },
          "name": "stdout",
          "output_type": "stream",
          "text": [
            "Epoch [8/100] Warp, Validation Loss: 2.1306\n",
            "Accuracy on test set [Warp]: 0.2632\n"
          ]
        },
        {
          "metadata": {
            "tags": null
          },
          "name": "stderr",
          "output_type": "stream",
          "text": [
            "Training Epoch 9/100 [Warp]: 100%|██████████| 10/10 [05:09<00:00, 30.90s/it]\n"
          ]
        },
        {
          "metadata": {
            "tags": null
          },
          "name": "stdout",
          "output_type": "stream",
          "text": [
            "Epoch [9/100] Warp, Training Loss: 4.9122\n"
          ]
        },
        {
          "metadata": {
            "tags": null
          },
          "name": "stderr",
          "output_type": "stream",
          "text": [
            "Validation Epoch 9/100 [Warp]: 100%|██████████| 2/2 [00:14<00:00,  7.39s/it]\n"
          ]
        },
        {
          "metadata": {
            "tags": null
          },
          "name": "stdout",
          "output_type": "stream",
          "text": [
            "Epoch [9/100] Warp, Validation Loss: 2.5084\n",
            "Accuracy on test set [Warp]: 0.3684\n"
          ]
        },
        {
          "metadata": {
            "tags": null
          },
          "name": "stderr",
          "output_type": "stream",
          "text": [
            "Training Epoch 10/100 [Warp]: 100%|██████████| 10/10 [05:09<00:00, 30.95s/it]\n"
          ]
        },
        {
          "metadata": {
            "tags": null
          },
          "name": "stdout",
          "output_type": "stream",
          "text": [
            "Epoch [10/100] Warp, Training Loss: 6.7256\n"
          ]
        },
        {
          "metadata": {
            "tags": null
          },
          "name": "stderr",
          "output_type": "stream",
          "text": [
            "Validation Epoch 10/100 [Warp]: 100%|██████████| 2/2 [00:14<00:00,  7.47s/it]\n"
          ]
        },
        {
          "metadata": {
            "tags": null
          },
          "name": "stdout",
          "output_type": "stream",
          "text": [
            "Epoch [10/100] Warp, Validation Loss: 2.6984\n",
            "Accuracy on test set [Warp]: 0.2895\n"
          ]
        },
        {
          "metadata": {
            "tags": null
          },
          "name": "stderr",
          "output_type": "stream",
          "text": [
            "Training Epoch 11/100 [Warp]: 100%|██████████| 10/10 [05:09<00:00, 30.94s/it]\n"
          ]
        },
        {
          "metadata": {
            "tags": null
          },
          "name": "stdout",
          "output_type": "stream",
          "text": [
            "Epoch [11/100] Warp, Training Loss: 5.4742\n"
          ]
        },
        {
          "metadata": {
            "tags": null
          },
          "name": "stderr",
          "output_type": "stream",
          "text": [
            "Validation Epoch 11/100 [Warp]: 100%|██████████| 2/2 [00:14<00:00,  7.22s/it]\n"
          ]
        },
        {
          "metadata": {
            "tags": null
          },
          "name": "stdout",
          "output_type": "stream",
          "text": [
            "Epoch [11/100] Warp, Validation Loss: 6.4491\n",
            "Accuracy on test set [Warp]: 0.4211\n"
          ]
        },
        {
          "metadata": {
            "tags": null
          },
          "name": "stderr",
          "output_type": "stream",
          "text": [
            "Training Epoch 12/100 [Warp]: 100%|██████████| 10/10 [05:07<00:00, 30.77s/it]\n"
          ]
        },
        {
          "metadata": {
            "tags": null
          },
          "name": "stdout",
          "output_type": "stream",
          "text": [
            "Epoch [12/100] Warp, Training Loss: 5.8983\n"
          ]
        },
        {
          "metadata": {
            "tags": null
          },
          "name": "stderr",
          "output_type": "stream",
          "text": [
            "Validation Epoch 12/100 [Warp]: 100%|██████████| 2/2 [00:14<00:00,  7.37s/it]\n"
          ]
        },
        {
          "metadata": {
            "tags": null
          },
          "name": "stdout",
          "output_type": "stream",
          "text": [
            "Epoch [12/100] Warp, Validation Loss: 2.6308\n",
            "Accuracy on test set [Warp]: 0.3158\n"
          ]
        },
        {
          "metadata": {
            "tags": null
          },
          "name": "stderr",
          "output_type": "stream",
          "text": [
            "Training Epoch 13/100 [Warp]: 100%|██████████| 10/10 [05:08<00:00, 30.86s/it]\n"
          ]
        },
        {
          "metadata": {
            "tags": null
          },
          "name": "stdout",
          "output_type": "stream",
          "text": [
            "Epoch [13/100] Warp, Training Loss: 5.9397\n"
          ]
        },
        {
          "metadata": {
            "tags": null
          },
          "name": "stderr",
          "output_type": "stream",
          "text": [
            "Validation Epoch 13/100 [Warp]: 100%|██████████| 2/2 [00:14<00:00,  7.42s/it]\n"
          ]
        },
        {
          "metadata": {
            "tags": null
          },
          "name": "stdout",
          "output_type": "stream",
          "text": [
            "Epoch [13/100] Warp, Validation Loss: 4.9254\n",
            "Accuracy on test set [Warp]: 0.2500\n"
          ]
        },
        {
          "metadata": {
            "tags": null
          },
          "name": "stderr",
          "output_type": "stream",
          "text": [
            "Training Epoch 14/100 [Warp]: 100%|██████████| 10/10 [05:08<00:00, 30.82s/it]\n"
          ]
        },
        {
          "metadata": {
            "tags": null
          },
          "name": "stdout",
          "output_type": "stream",
          "text": [
            "Epoch [14/100] Warp, Training Loss: 7.5917\n"
          ]
        },
        {
          "metadata": {
            "tags": null
          },
          "name": "stderr",
          "output_type": "stream",
          "text": [
            "Validation Epoch 14/100 [Warp]: 100%|██████████| 2/2 [00:14<00:00,  7.36s/it]\n"
          ]
        },
        {
          "metadata": {
            "tags": null
          },
          "name": "stdout",
          "output_type": "stream",
          "text": [
            "Epoch [14/100] Warp, Validation Loss: 4.3012\n",
            "Accuracy on test set [Warp]: 0.3553\n"
          ]
        },
        {
          "metadata": {
            "tags": null
          },
          "name": "stderr",
          "output_type": "stream",
          "text": [
            "Training Epoch 15/100 [Warp]: 100%|██████████| 10/10 [05:08<00:00, 30.84s/it]\n"
          ]
        },
        {
          "metadata": {
            "tags": null
          },
          "name": "stdout",
          "output_type": "stream",
          "text": [
            "Epoch [15/100] Warp, Training Loss: 5.2905\n"
          ]
        },
        {
          "metadata": {
            "tags": null
          },
          "name": "stderr",
          "output_type": "stream",
          "text": [
            "Validation Epoch 15/100 [Warp]: 100%|██████████| 2/2 [00:15<00:00,  7.55s/it]\n"
          ]
        },
        {
          "metadata": {
            "tags": null
          },
          "name": "stdout",
          "output_type": "stream",
          "text": [
            "Epoch [15/100] Warp, Validation Loss: 8.9273\n",
            "Accuracy on test set [Warp]: 0.2500\n"
          ]
        },
        {
          "metadata": {
            "tags": null
          },
          "name": "stderr",
          "output_type": "stream",
          "text": [
            "Training Epoch 16/100 [Warp]: 100%|██████████| 10/10 [05:09<00:00, 30.91s/it]\n"
          ]
        },
        {
          "metadata": {
            "tags": null
          },
          "name": "stdout",
          "output_type": "stream",
          "text": [
            "Epoch [16/100] Warp, Training Loss: 6.6566\n"
          ]
        },
        {
          "metadata": {
            "tags": null
          },
          "name": "stderr",
          "output_type": "stream",
          "text": [
            "Validation Epoch 16/100 [Warp]: 100%|██████████| 2/2 [00:15<00:00,  7.58s/it]\n"
          ]
        },
        {
          "metadata": {
            "tags": null
          },
          "name": "stdout",
          "output_type": "stream",
          "text": [
            "Epoch [16/100] Warp, Validation Loss: 21.9770\n",
            "Accuracy on test set [Warp]: 0.3553\n"
          ]
        },
        {
          "metadata": {
            "tags": null
          },
          "name": "stderr",
          "output_type": "stream",
          "text": [
            "Training Epoch 17/100 [Warp]: 100%|██████████| 10/10 [05:09<00:00, 30.91s/it]\n"
          ]
        },
        {
          "metadata": {
            "tags": null
          },
          "name": "stdout",
          "output_type": "stream",
          "text": [
            "Epoch [17/100] Warp, Training Loss: 3.5960\n"
          ]
        },
        {
          "metadata": {
            "tags": null
          },
          "name": "stderr",
          "output_type": "stream",
          "text": [
            "Validation Epoch 17/100 [Warp]: 100%|██████████| 2/2 [00:14<00:00,  7.39s/it]\n"
          ]
        },
        {
          "metadata": {
            "tags": null
          },
          "name": "stdout",
          "output_type": "stream",
          "text": [
            "Epoch [17/100] Warp, Validation Loss: 2.4229\n",
            "Accuracy on test set [Warp]: 0.2895\n"
          ]
        },
        {
          "metadata": {
            "tags": null
          },
          "name": "stderr",
          "output_type": "stream",
          "text": [
            "Training Epoch 18/100 [Warp]: 100%|██████████| 10/10 [05:09<00:00, 30.92s/it]\n"
          ]
        },
        {
          "metadata": {
            "tags": null
          },
          "name": "stdout",
          "output_type": "stream",
          "text": [
            "Epoch [18/100] Warp, Training Loss: 3.4250\n"
          ]
        },
        {
          "metadata": {
            "tags": null
          },
          "name": "stderr",
          "output_type": "stream",
          "text": [
            "Validation Epoch 18/100 [Warp]: 100%|██████████| 2/2 [00:15<00:00,  7.52s/it]\n"
          ]
        },
        {
          "metadata": {
            "tags": null
          },
          "name": "stdout",
          "output_type": "stream",
          "text": [
            "Epoch [18/100] Warp, Validation Loss: 0.7319\n",
            "Accuracy on test set [Warp]: 0.6053\n"
          ]
        },
        {
          "metadata": {
            "tags": null
          },
          "name": "stderr",
          "output_type": "stream",
          "text": [
            "Training Epoch 19/100 [Warp]: 100%|██████████| 10/10 [05:14<00:00, 31.47s/it]\n"
          ]
        },
        {
          "metadata": {
            "tags": null
          },
          "name": "stdout",
          "output_type": "stream",
          "text": [
            "Epoch [19/100] Warp, Training Loss: 1.6768\n"
          ]
        },
        {
          "metadata": {
            "tags": null
          },
          "name": "stderr",
          "output_type": "stream",
          "text": [
            "Validation Epoch 19/100 [Warp]: 100%|██████████| 2/2 [00:15<00:00,  7.56s/it]\n"
          ]
        },
        {
          "metadata": {
            "tags": null
          },
          "name": "stdout",
          "output_type": "stream",
          "text": [
            "Epoch [19/100] Warp, Validation Loss: 1.3891\n",
            "Accuracy on test set [Warp]: 0.4474\n"
          ]
        },
        {
          "metadata": {
            "tags": null
          },
          "name": "stderr",
          "output_type": "stream",
          "text": [
            "Training Epoch 20/100 [Warp]: 100%|██████████| 10/10 [05:14<00:00, 31.41s/it]\n"
          ]
        },
        {
          "metadata": {
            "tags": null
          },
          "name": "stdout",
          "output_type": "stream",
          "text": [
            "Epoch [20/100] Warp, Training Loss: 1.7843\n"
          ]
        },
        {
          "metadata": {
            "tags": null
          },
          "name": "stderr",
          "output_type": "stream",
          "text": [
            "Validation Epoch 20/100 [Warp]: 100%|██████████| 2/2 [00:14<00:00,  7.49s/it]\n"
          ]
        },
        {
          "metadata": {
            "tags": null
          },
          "name": "stdout",
          "output_type": "stream",
          "text": [
            "Epoch [20/100] Warp, Validation Loss: 2.0494\n",
            "Accuracy on test set [Warp]: 0.5526\n"
          ]
        },
        {
          "metadata": {
            "tags": null
          },
          "name": "stderr",
          "output_type": "stream",
          "text": [
            "Training Epoch 21/100 [Warp]: 100%|██████████| 10/10 [05:08<00:00, 30.87s/it]\n"
          ]
        },
        {
          "metadata": {
            "tags": null
          },
          "name": "stdout",
          "output_type": "stream",
          "text": [
            "Epoch [21/100] Warp, Training Loss: 1.5928\n"
          ]
        },
        {
          "metadata": {
            "tags": null
          },
          "name": "stderr",
          "output_type": "stream",
          "text": [
            "Validation Epoch 21/100 [Warp]: 100%|██████████| 2/2 [00:15<00:00,  7.57s/it]\n"
          ]
        },
        {
          "metadata": {
            "tags": null
          },
          "name": "stdout",
          "output_type": "stream",
          "text": [
            "Epoch [21/100] Warp, Validation Loss: 1.0423\n",
            "Accuracy on test set [Warp]: 0.3026\n"
          ]
        },
        {
          "metadata": {
            "tags": null
          },
          "name": "stderr",
          "output_type": "stream",
          "text": [
            "Training Epoch 22/100 [Warp]: 100%|██████████| 10/10 [05:09<00:00, 30.96s/it]\n"
          ]
        },
        {
          "metadata": {
            "tags": null
          },
          "name": "stdout",
          "output_type": "stream",
          "text": [
            "Epoch [22/100] Warp, Training Loss: 2.6451\n"
          ]
        },
        {
          "metadata": {
            "tags": null
          },
          "name": "stderr",
          "output_type": "stream",
          "text": [
            "Validation Epoch 22/100 [Warp]: 100%|██████████| 2/2 [00:14<00:00,  7.42s/it]\n"
          ]
        },
        {
          "metadata": {
            "tags": null
          },
          "name": "stdout",
          "output_type": "stream",
          "text": [
            "Epoch [22/100] Warp, Validation Loss: 2.5740\n",
            "Accuracy on test set [Warp]: 0.2500\n"
          ]
        },
        {
          "metadata": {
            "tags": null
          },
          "name": "stderr",
          "output_type": "stream",
          "text": [
            "Training Epoch 23/100 [Warp]: 100%|██████████| 10/10 [05:09<00:00, 30.93s/it]\n"
          ]
        },
        {
          "metadata": {
            "tags": null
          },
          "name": "stdout",
          "output_type": "stream",
          "text": [
            "Epoch [23/100] Warp, Training Loss: 1.8286\n"
          ]
        },
        {
          "metadata": {
            "tags": null
          },
          "name": "stderr",
          "output_type": "stream",
          "text": [
            "Validation Epoch 23/100 [Warp]: 100%|██████████| 2/2 [00:15<00:00,  7.56s/it]\n"
          ]
        },
        {
          "metadata": {
            "tags": null
          },
          "name": "stdout",
          "output_type": "stream",
          "text": [
            "Epoch [23/100] Warp, Validation Loss: 0.7334\n",
            "Accuracy on test set [Warp]: 0.5526\n"
          ]
        },
        {
          "metadata": {
            "tags": null
          },
          "name": "stderr",
          "output_type": "stream",
          "text": [
            "Training Epoch 24/100 [Warp]: 100%|██████████| 10/10 [05:09<00:00, 30.94s/it]\n"
          ]
        },
        {
          "metadata": {
            "tags": null
          },
          "name": "stdout",
          "output_type": "stream",
          "text": [
            "Epoch [24/100] Warp, Training Loss: 2.1868\n"
          ]
        },
        {
          "metadata": {
            "tags": null
          },
          "name": "stderr",
          "output_type": "stream",
          "text": [
            "Validation Epoch 24/100 [Warp]: 100%|██████████| 2/2 [00:15<00:00,  7.54s/it]\n"
          ]
        },
        {
          "metadata": {
            "tags": null
          },
          "name": "stdout",
          "output_type": "stream",
          "text": [
            "Epoch [24/100] Warp, Validation Loss: 0.7170\n",
            "Accuracy on test set [Warp]: 0.5263\n"
          ]
        },
        {
          "metadata": {
            "tags": null
          },
          "name": "stderr",
          "output_type": "stream",
          "text": [
            "Training Epoch 25/100 [Warp]: 100%|██████████| 10/10 [05:09<00:00, 30.95s/it]\n"
          ]
        },
        {
          "metadata": {
            "tags": null
          },
          "name": "stdout",
          "output_type": "stream",
          "text": [
            "Epoch [25/100] Warp, Training Loss: 1.0866\n"
          ]
        },
        {
          "metadata": {
            "tags": null
          },
          "name": "stderr",
          "output_type": "stream",
          "text": [
            "Validation Epoch 25/100 [Warp]: 100%|██████████| 2/2 [00:15<00:00,  7.57s/it]\n"
          ]
        },
        {
          "metadata": {
            "tags": null
          },
          "name": "stdout",
          "output_type": "stream",
          "text": [
            "Epoch [25/100] Warp, Validation Loss: 0.7481\n",
            "Accuracy on test set [Warp]: 0.3684\n"
          ]
        },
        {
          "metadata": {
            "tags": null
          },
          "name": "stderr",
          "output_type": "stream",
          "text": [
            "Training Epoch 26/100 [Warp]: 100%|██████████| 10/10 [05:08<00:00, 30.87s/it]\n"
          ]
        },
        {
          "metadata": {
            "tags": null
          },
          "name": "stdout",
          "output_type": "stream",
          "text": [
            "Epoch [26/100] Warp, Training Loss: 1.2327\n"
          ]
        },
        {
          "metadata": {
            "tags": null
          },
          "name": "stderr",
          "output_type": "stream",
          "text": [
            "Validation Epoch 26/100 [Warp]: 100%|██████████| 2/2 [00:15<00:00,  7.52s/it]\n"
          ]
        },
        {
          "metadata": {
            "tags": null
          },
          "name": "stdout",
          "output_type": "stream",
          "text": [
            "Epoch [26/100] Warp, Validation Loss: 0.3796\n",
            "Accuracy on test set [Warp]: 0.5658\n"
          ]
        },
        {
          "metadata": {
            "tags": null
          },
          "name": "stderr",
          "output_type": "stream",
          "text": [
            "Training Epoch 27/100 [Warp]: 100%|██████████| 10/10 [05:09<00:00, 30.92s/it]\n"
          ]
        },
        {
          "metadata": {
            "tags": null
          },
          "name": "stdout",
          "output_type": "stream",
          "text": [
            "Epoch [27/100] Warp, Training Loss: 1.0646\n"
          ]
        },
        {
          "metadata": {
            "tags": null
          },
          "name": "stderr",
          "output_type": "stream",
          "text": [
            "Validation Epoch 27/100 [Warp]: 100%|██████████| 2/2 [00:15<00:00,  7.60s/it]\n"
          ]
        },
        {
          "metadata": {
            "tags": null
          },
          "name": "stdout",
          "output_type": "stream",
          "text": [
            "Epoch [27/100] Warp, Validation Loss: 0.8002\n",
            "Accuracy on test set [Warp]: 0.4605\n"
          ]
        },
        {
          "metadata": {
            "tags": null
          },
          "name": "stderr",
          "output_type": "stream",
          "text": [
            "Training Epoch 28/100 [Warp]: 100%|██████████| 10/10 [05:09<00:00, 30.95s/it]\n"
          ]
        },
        {
          "metadata": {
            "tags": null
          },
          "name": "stdout",
          "output_type": "stream",
          "text": [
            "Epoch [28/100] Warp, Training Loss: 1.5188\n"
          ]
        },
        {
          "metadata": {
            "tags": null
          },
          "name": "stderr",
          "output_type": "stream",
          "text": [
            "Validation Epoch 28/100 [Warp]: 100%|██████████| 2/2 [00:15<00:00,  7.60s/it]\n"
          ]
        },
        {
          "metadata": {
            "tags": null
          },
          "name": "stdout",
          "output_type": "stream",
          "text": [
            "Epoch [28/100] Warp, Validation Loss: 0.8618\n",
            "Accuracy on test set [Warp]: 0.4474\n"
          ]
        },
        {
          "metadata": {
            "tags": null
          },
          "name": "stderr",
          "output_type": "stream",
          "text": [
            "Training Epoch 29/100 [Warp]: 100%|██████████| 10/10 [05:08<00:00, 30.90s/it]\n"
          ]
        },
        {
          "metadata": {
            "tags": null
          },
          "name": "stdout",
          "output_type": "stream",
          "text": [
            "Epoch [29/100] Warp, Training Loss: 0.8645\n"
          ]
        },
        {
          "metadata": {
            "tags": null
          },
          "name": "stderr",
          "output_type": "stream",
          "text": [
            "Validation Epoch 29/100 [Warp]: 100%|██████████| 2/2 [00:15<00:00,  7.54s/it]\n"
          ]
        },
        {
          "metadata": {
            "tags": null
          },
          "name": "stdout",
          "output_type": "stream",
          "text": [
            "Epoch [29/100] Warp, Validation Loss: 1.1486\n",
            "Accuracy on test set [Warp]: 0.4605\n"
          ]
        },
        {
          "metadata": {
            "tags": null
          },
          "name": "stderr",
          "output_type": "stream",
          "text": [
            "Training Epoch 30/100 [Warp]: 100%|██████████| 10/10 [05:08<00:00, 30.83s/it]\n"
          ]
        },
        {
          "metadata": {
            "tags": null
          },
          "name": "stdout",
          "output_type": "stream",
          "text": [
            "Epoch [30/100] Warp, Training Loss: 1.0245\n"
          ]
        },
        {
          "metadata": {
            "tags": null
          },
          "name": "stderr",
          "output_type": "stream",
          "text": [
            "Validation Epoch 30/100 [Warp]: 100%|██████████| 2/2 [00:15<00:00,  7.51s/it]\n"
          ]
        },
        {
          "metadata": {
            "tags": null
          },
          "name": "stdout",
          "output_type": "stream",
          "text": [
            "Epoch [30/100] Warp, Validation Loss: 0.3230\n",
            "Accuracy on test set [Warp]: 0.6053\n"
          ]
        },
        {
          "metadata": {
            "tags": null
          },
          "name": "stderr",
          "output_type": "stream",
          "text": [
            "Training Epoch 31/100 [Warp]: 100%|██████████| 10/10 [05:07<00:00, 30.79s/it]\n"
          ]
        },
        {
          "metadata": {
            "tags": null
          },
          "name": "stdout",
          "output_type": "stream",
          "text": [
            "Epoch [31/100] Warp, Training Loss: 1.2933\n"
          ]
        },
        {
          "metadata": {
            "tags": null
          },
          "name": "stderr",
          "output_type": "stream",
          "text": [
            "Validation Epoch 31/100 [Warp]: 100%|██████████| 2/2 [00:14<00:00,  7.38s/it]\n"
          ]
        },
        {
          "metadata": {
            "tags": null
          },
          "name": "stdout",
          "output_type": "stream",
          "text": [
            "Epoch [31/100] Warp, Validation Loss: 0.4920\n",
            "Accuracy on test set [Warp]: 0.4474\n"
          ]
        },
        {
          "metadata": {
            "tags": null
          },
          "name": "stderr",
          "output_type": "stream",
          "text": [
            "Training Epoch 32/100 [Warp]: 100%|██████████| 10/10 [05:07<00:00, 30.78s/it]\n"
          ]
        },
        {
          "metadata": {
            "tags": null
          },
          "name": "stdout",
          "output_type": "stream",
          "text": [
            "Epoch [32/100] Warp, Training Loss: 0.6608\n"
          ]
        },
        {
          "metadata": {
            "tags": null
          },
          "name": "stderr",
          "output_type": "stream",
          "text": [
            "Validation Epoch 32/100 [Warp]: 100%|██████████| 2/2 [00:14<00:00,  7.44s/it]\n"
          ]
        },
        {
          "metadata": {
            "tags": null
          },
          "name": "stdout",
          "output_type": "stream",
          "text": [
            "Epoch [32/100] Warp, Validation Loss: 0.8669\n",
            "Accuracy on test set [Warp]: 0.6842\n"
          ]
        },
        {
          "metadata": {
            "tags": null
          },
          "name": "stderr",
          "output_type": "stream",
          "text": [
            "Training Epoch 33/100 [Warp]: 100%|██████████| 10/10 [05:07<00:00, 30.73s/it]\n"
          ]
        },
        {
          "metadata": {
            "tags": null
          },
          "name": "stdout",
          "output_type": "stream",
          "text": [
            "Epoch [33/100] Warp, Training Loss: 0.9327\n"
          ]
        },
        {
          "metadata": {
            "tags": null
          },
          "name": "stderr",
          "output_type": "stream",
          "text": [
            "Validation Epoch 33/100 [Warp]: 100%|██████████| 2/2 [00:14<00:00,  7.35s/it]\n"
          ]
        },
        {
          "metadata": {
            "tags": null
          },
          "name": "stdout",
          "output_type": "stream",
          "text": [
            "Epoch [33/100] Warp, Validation Loss: 0.6659\n",
            "Accuracy on test set [Warp]: 0.5263\n"
          ]
        },
        {
          "metadata": {
            "tags": null
          },
          "name": "stderr",
          "output_type": "stream",
          "text": [
            "Training Epoch 34/100 [Warp]: 100%|██████████| 10/10 [05:07<00:00, 30.74s/it]\n"
          ]
        },
        {
          "metadata": {
            "tags": null
          },
          "name": "stdout",
          "output_type": "stream",
          "text": [
            "Epoch [34/100] Warp, Training Loss: 1.5747\n"
          ]
        },
        {
          "metadata": {
            "tags": null
          },
          "name": "stderr",
          "output_type": "stream",
          "text": [
            "Validation Epoch 34/100 [Warp]: 100%|██████████| 2/2 [00:15<00:00,  7.55s/it]\n"
          ]
        },
        {
          "metadata": {
            "tags": null
          },
          "name": "stdout",
          "output_type": "stream",
          "text": [
            "Epoch [34/100] Warp, Validation Loss: 0.5117\n",
            "Accuracy on test set [Warp]: 0.4211\n"
          ]
        },
        {
          "output_type": "stream",
          "name": "stderr",
          "text": [
            "Training Epoch 35/100 [Warp]: 100%|██████████| 10/10 [05:08<00:00, 30.81s/it]\n"
          ]
        },
        {
          "output_type": "stream",
          "name": "stdout",
          "text": [
            "Epoch [35/100] Warp, Training Loss: 3.0542\n"
          ]
        },
        {
          "output_type": "stream",
          "name": "stderr",
          "text": [
            "Validation Epoch 35/100 [Warp]: 100%|██████████| 2/2 [00:15<00:00,  7.51s/it]\n"
          ]
        },
        {
          "output_type": "stream",
          "name": "stdout",
          "text": [
            "Epoch [35/100] Warp, Validation Loss: 3.0525\n",
            "Accuracy on test set [Warp]: 0.3684\n"
          ]
        },
        {
          "output_type": "stream",
          "name": "stderr",
          "text": [
            "Training Epoch 36/100 [Warp]: 100%|██████████| 10/10 [05:07<00:00, 30.78s/it]\n"
          ]
        },
        {
          "output_type": "stream",
          "name": "stdout",
          "text": [
            "Epoch [36/100] Warp, Training Loss: 1.8945\n"
          ]
        },
        {
          "output_type": "stream",
          "name": "stderr",
          "text": [
            "Validation Epoch 36/100 [Warp]: 100%|██████████| 2/2 [00:14<00:00,  7.40s/it]\n"
          ]
        },
        {
          "output_type": "stream",
          "name": "stdout",
          "text": [
            "Epoch [36/100] Warp, Validation Loss: 3.4425\n",
            "Accuracy on test set [Warp]: 0.1316\n"
          ]
        },
        {
          "output_type": "stream",
          "name": "stderr",
          "text": [
            "Training Epoch 37/100 [Warp]: 100%|██████████| 10/10 [05:07<00:00, 30.79s/it]\n"
          ]
        },
        {
          "output_type": "stream",
          "name": "stdout",
          "text": [
            "Epoch [37/100] Warp, Training Loss: 0.8723\n"
          ]
        },
        {
          "output_type": "stream",
          "name": "stderr",
          "text": [
            "Validation Epoch 37/100 [Warp]: 100%|██████████| 2/2 [00:14<00:00,  7.44s/it]\n"
          ]
        },
        {
          "output_type": "stream",
          "name": "stdout",
          "text": [
            "Epoch [37/100] Warp, Validation Loss: 0.9260\n",
            "Accuracy on test set [Warp]: 0.5526\n"
          ]
        },
        {
          "output_type": "stream",
          "name": "stderr",
          "text": [
            "Training Epoch 38/100 [Warp]: 100%|██████████| 10/10 [05:07<00:00, 30.75s/it]\n"
          ]
        },
        {
          "output_type": "stream",
          "name": "stdout",
          "text": [
            "Epoch [38/100] Warp, Training Loss: 1.3371\n"
          ]
        },
        {
          "output_type": "stream",
          "name": "stderr",
          "text": [
            "Validation Epoch 38/100 [Warp]: 100%|██████████| 2/2 [00:14<00:00,  7.42s/it]\n"
          ]
        },
        {
          "output_type": "stream",
          "name": "stdout",
          "text": [
            "Epoch [38/100] Warp, Validation Loss: 1.0780\n",
            "Accuracy on test set [Warp]: 0.5000\n"
          ]
        },
        {
          "output_type": "stream",
          "name": "stderr",
          "text": [
            "Training Epoch 39/100 [Warp]: 100%|██████████| 10/10 [05:08<00:00, 30.86s/it]\n"
          ]
        },
        {
          "output_type": "stream",
          "name": "stdout",
          "text": [
            "Epoch [39/100] Warp, Training Loss: 0.8422\n"
          ]
        },
        {
          "output_type": "stream",
          "name": "stderr",
          "text": [
            "Validation Epoch 39/100 [Warp]: 100%|██████████| 2/2 [00:14<00:00,  7.45s/it]\n"
          ]
        },
        {
          "output_type": "stream",
          "name": "stdout",
          "text": [
            "Epoch [39/100] Warp, Validation Loss: 0.9763\n",
            "Accuracy on test set [Warp]: 0.4211\n"
          ]
        },
        {
          "output_type": "stream",
          "name": "stderr",
          "text": [
            "Training Epoch 40/100 [Warp]: 100%|██████████| 10/10 [05:08<00:00, 30.88s/it]\n"
          ]
        },
        {
          "output_type": "stream",
          "name": "stdout",
          "text": [
            "Epoch [40/100] Warp, Training Loss: 0.6777\n"
          ]
        },
        {
          "output_type": "stream",
          "name": "stderr",
          "text": [
            "Validation Epoch 40/100 [Warp]: 100%|██████████| 2/2 [00:14<00:00,  7.42s/it]"
          ]
        },
        {
          "output_type": "stream",
          "name": "stdout",
          "text": [
            "Epoch [40/100] Warp, Validation Loss: 0.3412\n",
            "Early stopping triggered for Warp model\n"
          ]
        },
        {
          "output_type": "stream",
          "name": "stderr",
          "text": [
            "\n"
          ]
        }
      ]
    },
    {
      "cell_type": "markdown",
      "source": [
        "# **Case study 4*4**\n",
        "![888.png](data:image/png;base64,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)"
      ],
      "metadata": {
        "id": "Cwhjwq83GAMO"
      }
    },
    {
      "cell_type": "code",
      "source": [
        "transform = transforms.Compose([\n",
        "    transforms.Resize((224, 224)),\n",
        "    transforms.ToTensor()\n",
        "])\n",
        "\n",
        "model_weft = get_resnet_model()\n",
        "model_weft.load_state_dict(torch.load('weft_model.pth'))\n",
        "model_weft.eval()\n",
        "model_warp = get_resnet_model()\n",
        "model_warp.load_state_dict(torch.load('warp_model.pth'))\n",
        "model_warp.eval()\n",
        "\n",
        "!ls\n",
        "image_path = '888.png'\n",
        "image = Image.open(image_path).convert(\"RGB\")\n",
        "\n",
        "image_tensor = transform(image).unsqueeze(0)\n",
        "with torch.no_grad():\n",
        "    weft_prediction = model_weft(image_tensor).item()\n",
        "    warp_prediction = model_warp(image_tensor).item()\n",
        "\n",
        "print(f'Predicted Weft: {weft_prediction}')\n",
        "print(f'Predicted Warp: {warp_prediction}')"
      ],
      "metadata": {
        "id": "G7Fs6yKZBybl"
      },
      "execution_count": null,
      "outputs": []
    }
  ]
}